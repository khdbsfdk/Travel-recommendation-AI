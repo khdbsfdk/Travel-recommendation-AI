{
  "cells": [
    {
      "cell_type": "markdown",
      "id": "a048d3ac",
      "metadata": {
        "id": "a048d3ac"
      },
      "source": [
        "## 패키지 로드"
      ]
    },
    {
      "cell_type": "code",
      "execution_count": null,
      "id": "8d3492b3",
      "metadata": {
        "id": "8d3492b3"
      },
      "outputs": [],
      "source": [
        "import time\n",
        "import pandas as pd\n",
        "import openpyxl\n",
        "from selenium import webdriver\n",
        "from selenium.webdriver.common.keys import Keys\n",
        "from tqdm import tqdm"
      ]
    },
    {
      "cell_type": "markdown",
      "id": "4dd1122d",
      "metadata": {
        "id": "4dd1122d"
      },
      "source": [
        "## 관광지 정보(이름, 태그, 주소) 크롤링"
      ]
    },
    {
      "cell_type": "code",
      "execution_count": null,
      "id": "54fd38cc",
      "metadata": {
        "scrolled": true,
        "id": "54fd38cc"
      },
      "outputs": [],
      "source": [
        "driver = webdriver.Chrome(\"./chromedriver\")\n",
        "\n",
        "driver.get(\"https://www.visitjeju.net/kr/detail/list?menuId=DOM_000001718000000000&cate1cd=cate0000000002#p1&pageSize=12&sortListType=reviewcnt&viewType=thumb&isShowBtag&tag\")\n",
        "driver.implicitly_wait(3)\n",
        "\n",
        "# 하이퍼 링크를 포함한 li tag를 반복하며 클릭 후 수집해야 하기 때문에 li tag를 포함하고 있는 ul tag를 가져옵니다.\n",
        "all_tourist = driver.find_elements_by_css_selector(\"#content > div > div.cont_wrap > div.recommend_area > ul > li\")\n",
        "                                                   \n",
        "tourist = []         # 관광지 이름을 추출받을 리스트 변수입니다.\n",
        "theme = []           # 테마 태그를 받을 리스트 변수입니다.\n",
        "tourist_address = [] # 관광지의 주소를 입력받을 리스트 변수입니다.\n",
        "\n",
        "# 총 페이지 수 만큼 반복합니다.\n",
        "for page in range(1, 93) :\n",
        "    time.sleep(1) # 1초의 지연 시간을 줍니다.\n",
        "    \n",
        "    # 클래스 이름이 item_section인 태그를 찾고 해당 태그의 총 개수만큼 반복합니다.\n",
        "    for i in range(1, len(all_tourist)+1) :\n",
        "        time.sleep(2) # 1초의 지연 시간을 줍니다.\n",
        "        \n",
        "        # 하이퍼 링크를 하나씩 클릭합니다.\n",
        "        driver.find_element_by_css_selector('#content > div > div.cont_wrap > div.recommend_area > ul > li:nth-child('+str(i)+') > dl > dt > a').click()\n",
        "        time.sleep(3) \n",
        "        \n",
        "        try :\n",
        "            # 관광지의 이름을 가져옵니다.\n",
        "            tourist.append(driver.find_element_by_css_selector(\"#content > div.cont.detail_page.detail_style > div.sub_visual_wrap > div.inner_wrap > div.sub_info_area > div.sub_info_title > h3\").text)\n",
        "\n",
        "            # 관광지의 테마 태그를 받을 리스트 변수입니다.\n",
        "            theme.append(driver.find_element_by_css_selector(\"#content > div.cont.detail_page.detail_style > div.sub_visual_wrap > div.inner_wrap > div.sub_info_area > div.tag_area\").text)\n",
        "\n",
        "            # 관광지 주소를 가져옵니다.\n",
        "            tourist_address.append(driver.find_element_by_css_selector('#content > div.cont.detail_page.detail_style > div.sub_visual_wrap > div.inner_wrap > div.sub_info_area > div.basic_information > div:nth-child(2) > p.info_sub_cont').text)\n",
        "\n",
        "            # 뒤로가기를 실행합니다.\n",
        "            driver.back()\n",
        "            time.sleep(2) # 1초의 지연 시간을 줍니다\n",
        "            \n",
        "        except : \n",
        "            # 관광지의 이름을 가져옵니다.\n",
        "            tourist.append(driver.find_element_by_css_selector(\"#content > div.cont.detail_page.detail_style2 > div.sub_visual_wrap > div.inner_wrap > div.sub_info_area > div.sub_info_title > h3\").text)\n",
        "\n",
        "            # 관광지의 테마 태그를 받을 리스트 변수입니다.\n",
        "            theme.append(driver.find_element_by_css_selector(\"#content > div.cont.detail_page.detail_style2 > div.sub_visual_wrap > div.inner_wrap > div.sub_info_area > div.tag_area\").text)\n",
        "\n",
        "            # 관광지 주소를 가져옵니다.\n",
        "            tourist_address.append(driver.find_element_by_css_selector('#content > div.cont.detail_page.detail_style2 > div.sub_visual_wrap > div.inner_wrap > div.sub_info_area > div.basic_information > div:nth-child(2) > p.info_sub_cont').text)\n",
        "                                                                \n",
        "\n",
        "            # 뒤로가기를 실행합니다.\n",
        "            driver.back()\n",
        "            time.sleep(2) # 1초의 지연 시간을 줍니다\n",
        "        \n",
        "    # 다음 페이지로 넘어가는 버튼을 클릭합니다.\n",
        "    driver.find_element_by_css_selector('#content > div > div.cont_wrap > div.recommend_area > div.theme_tit_area.clear > div > div > div.pager > button.next').click()\n",
        "\n",
        "# 수집이 끝난 후 브라우저를 닫습니다.\n",
        "driver.close() "
      ]
    },
    {
      "cell_type": "markdown",
      "id": "353ab1e9",
      "metadata": {
        "id": "353ab1e9"
      },
      "source": [
        "## 음식점 정보(이름, 태그, 주소) 크롤링"
      ]
    },
    {
      "cell_type": "code",
      "execution_count": null,
      "id": "7a83537c",
      "metadata": {
        "id": "7a83537c"
      },
      "outputs": [],
      "source": [
        "driver = webdriver.Chrome(\"./chromedriver\")\n",
        "\n",
        "driver.get(\"https://www.visitjeju.net/kr/detail/list?menuId=DOM_000001719000000000&cate1cd=cate0000000005#p1&pageSize=12&sortListType=reviewcnt&viewType=thumb&isShowBtag&tag\")\n",
        "driver.implicitly_wait(2)\n",
        "\n",
        "# 하이퍼 링크를 포함한 li 태그들을 리스트로 반환받습니다.\n",
        "all_tourist = driver.find_elements_by_css_selector(\"#content > div > div.cont_wrap > div.recommend_area > ul > li\")\n",
        "                                              \n",
        "restaurant_name = []    # 음식점 이름을 받을 리스트 변수입니다.\n",
        "restaurant_theme = []   # 음식점 테마 태그를 받을 리스트 변수입니다.\n",
        "restaurant_address = [] # 음식점의 주소를 받을 리스트 변수입니다.\n",
        "\n",
        "# 총 페이지 수 만큼 반복합니다.\n",
        "for page in range(1, 2) :\n",
        "    time.sleep(2) # 1초의 지연 시간을 줍니다.\n",
        "    \n",
        "    # li의 총 개수만큼 반복합니다.\n",
        "    for i in range(1, len(all_tourist)+1) :\n",
        "        time.sleep(2) # 2초의 지연 시간을 줍니다.\n",
        "        \n",
        "        # 하이퍼 링크를 하나씩 클릭합니다.\n",
        "        driver.find_element_by_css_selector('#content > div > div.cont_wrap > div.recommend_area > ul > li:nth-child('+str(i)+') > dl > dt > a').click()\n",
        "        time.sleep(2) # 2초의 지연 시간을 줍니다.\n",
        "        \n",
        "        # style이 두 가지가 존재하므로 예외 처리를 사용하여 style, style2가 정상적으로 크롤링 되도록 합니다.\n",
        "        try :\n",
        "            # 음식점의 이름을 restaurant_name 변수에 추가합니다.\n",
        "            restaurant_name.append(driver.find_element_by_css_selector(\"#content > div.cont.detail_page.detail_style > div.sub_visual_wrap > div.inner_wrap > div.sub_info_area > div.sub_info_title > h3\").text)\n",
        "\n",
        "            # 음식점의 테마 태그를 restaurant_theme 변수에 추가합니다.\n",
        "            restaurant_theme.append(driver.find_element_by_css_selector(\"#content > div.cont.detail_page.detail_style > div.sub_visual_wrap > div.inner_wrap > div.sub_info_area > div.tag_area\").text)\n",
        "\n",
        "            # 음식점의 주소를 restaurant_address 변수에 추가합니다.\n",
        "            restaurant_address.append(driver.find_element_by_css_selector('#content > div.cont.detail_page.detail_style > div.sub_visual_wrap > div.inner_wrap > div.sub_info_area > div.basic_information > div:nth-child(2) > p.info_sub_cont').text)\n",
        "            \n",
        "            # 뒤로가기를 실행합니다.\n",
        "            driver.back()\n",
        "            time.sleep(2) # 2초의 지연 시간을 줍니다\n",
        "            \n",
        "        except : \n",
        "            # 관광지의 이름을 가져옵니다.\n",
        "            restaurant_name.append(driver.find_element_by_css_selector(\"#content > div.cont.detail_page.detail_style2 > div.sub_visual_wrap > div.inner_wrap > div.sub_info_area > div.sub_info_title > h3\").text)\n",
        "\n",
        "            # 관광지의 테마 태그를 받을 리스트 변수입니다.\n",
        "            restaurant_theme.append(driver.find_element_by_css_selector(\"#content > div.cont.detail_page.detail_style2 > div.sub_visual_wrap > div.inner_wrap > div.sub_info_area > div.tag_area\").text)\n",
        "\n",
        "            # 관광지 주소를 가져옵니다.\n",
        "            restaurant_address.append(driver.find_element_by_css_selector('#content > div.cont.detail_page.detail_style2 > div.sub_visual_wrap > div.inner_wrap > div.sub_info_area > div.basic_information > div:nth-child(2) > p.info_sub_cont').text)\n",
        "                                                                \n",
        "\n",
        "            # 뒤로가기를 실행합니다.\n",
        "            driver.back()\n",
        "            time.sleep(2) # 1초의 지연 시간을 줍니다\n",
        "        \n",
        "    # 다음 페이지로 넘어가는 버튼을 클릭합니다.\n",
        "    driver.find_element_by_css_selector('#content > div > div.cont_wrap > div.recommend_area > div.theme_tit_area.clear > div > div > div.pager > button.next').click()\n",
        "\n",
        "# 수집이 끝난 후 브라우저를 닫습니다.\n",
        "driver.close() "
      ]
    },
    {
      "cell_type": "markdown",
      "id": "0b78fa9b",
      "metadata": {
        "id": "0b78fa9b"
      },
      "source": [
        "## 쇼핑몰 정보(이름, 태그, 주소) 크롤링"
      ]
    },
    {
      "cell_type": "code",
      "execution_count": null,
      "id": "ab5bdcd2",
      "metadata": {
        "id": "ab5bdcd2"
      },
      "outputs": [],
      "source": [
        "driver = webdriver.Chrome(\"./chromedriver\")\n",
        "\n",
        "driver.get(\"https://www.visitjeju.net/kr/detail/list?menuId=DOM_000001720000000000&cate1cd=cate0000000003#p1&pageSize=12&sortListType=reviewcnt&viewType=thumb&isShowBtag&tag\")\n",
        "driver.implicitly_wait(2)\n",
        "\n",
        "# 하이퍼 링크를 포함한 li 태그들을 리스트로 반환받습니다.\n",
        "all_tourist = driver.find_elements_by_css_selector(\"#content > div > div.cont_wrap > div.recommend_area > ul > li\")\n",
        "                                              \n",
        "shopping_name = []    # 쇼핑몰 이름을 받을 리스트 변수입니다.\n",
        "shopping_theme = []   # 쇼핑몰 테마 태그를 받을 리스트 변수입니다.\n",
        "shopping_address = [] # 쇼핑몰의 주소를 받을 리스트 변수입니다.\n",
        "\n",
        "# 총 페이지 수 만큼 반복합니다.\n",
        "for page in range(1, 13) :\n",
        "    time.sleep(2) # 1초의 지연 시간을 줍니다.\n",
        "    \n",
        "    # li의 총 개수만큼 반복합니다.\n",
        "    for i in range(1, len(all_tourist)+1) :\n",
        "        time.sleep(2) # 2초의 지연 시간을 줍니다.\n",
        "        \n",
        "        # 하이퍼 링크를 하나씩 클릭합니다.\n",
        "        driver.find_element_by_css_selector('#content > div > div.cont_wrap > div.recommend_area > ul > li:nth-child('+str(i)+') > dl > dt > a').click()\n",
        "        time.sleep(2) # 2초의 지연 시간을 줍니다.\n",
        "        \n",
        "        # style이 두 가지가 존재하므로 예외 처리를 사용하여 style, style2가 정상적으로 크롤링 되도록 합니다.\n",
        "        try :\n",
        "            # 쇼핑몰의 이름을 restaurant_name 변수에 추가합니다.\n",
        "            shopping_name.append(driver.find_element_by_css_selector(\"#content > div.cont.detail_page.detail_style > div.sub_visual_wrap > div.inner_wrap > div.sub_info_area > div.sub_info_title > h3\").text)\n",
        "\n",
        "            # 쇼핑몰의 테마 태그를 restaurant_theme 변수에 추가합니다.\n",
        "            shopping_theme.append(driver.find_element_by_css_selector(\"#content > div.cont.detail_page.detail_style > div.sub_visual_wrap > div.inner_wrap > div.sub_info_area > div.tag_area\").text)\n",
        "\n",
        "            # 쇼핑몰의 주소를 restaurant_address 변수에 추가합니다.\n",
        "            shopping_address.append(driver.find_element_by_css_selector('#content > div.cont.detail_page.detail_style > div.sub_visual_wrap > div.inner_wrap > div.sub_info_area > div.basic_information > div:nth-child(2) > p.info_sub_cont').text)\n",
        "            \n",
        "            # 뒤로가기를 실행합니다.\n",
        "            driver.back()\n",
        "            time.sleep(2) # 2초의 지연 시간을 줍니다\n",
        "            \n",
        "        except : \n",
        "            # 쇼핑몰의 이름을 가져옵니다.\n",
        "            shopping_name.append(driver.find_element_by_css_selector(\"#content > div.cont.detail_page.detail_style2 > div.sub_visual_wrap > div.inner_wrap > div.sub_info_area > div.sub_info_title > h3\").text)\n",
        "\n",
        "            # 쇼핑몰의 테마 태그를 받을 리스트 변수입니다.\n",
        "            shopping_theme.append(driver.find_element_by_css_selector(\"#content > div.cont.detail_page.detail_style2 > div.sub_visual_wrap > div.inner_wrap > div.sub_info_area > div.tag_area\").text)\n",
        "\n",
        "            # 쇼핑몰 주소를 가져옵니다.\n",
        "            shopping_address.append(driver.find_element_by_css_selector('#content > div.cont.detail_page.detail_style2 > div.sub_visual_wrap > div.inner_wrap > div.sub_info_area > div.basic_information > div:nth-child(2) > p.info_sub_cont').text)\n",
        "                                                                \n",
        "\n",
        "            # 뒤로가기를 실행합니다.\n",
        "            driver.back()\n",
        "            time.sleep(2) # 1초의 지연 시간을 줍니다\n",
        "        \n",
        "    # 다음 페이지로 넘어가는 버튼을 클릭합니다.\n",
        "    driver.find_element_by_css_selector('#content > div > div.cont_wrap > div.recommend_area > div.theme_tit_area.clear > div > div > div.pager > button.next').click()\n",
        "\n",
        "# 수집이 끝난 후 브라우저를 닫습니다.\n",
        "driver.close() "
      ]
    },
    {
      "cell_type": "markdown",
      "id": "bb8507d5",
      "metadata": {
        "id": "bb8507d5"
      },
      "source": [
        "## 주소 변환 크롤링"
      ]
    },
    {
      "cell_type": "code",
      "execution_count": null,
      "id": "b5199bd8",
      "metadata": {
        "id": "b5199bd8",
        "outputId": "106d9475-9183-4071-837d-d3e6c7779486"
      },
      "outputs": [
        {
          "name": "stderr",
          "output_type": "stream",
          "text": [
            "C:\\Users\\HPE\\AppData\\Local\\Temp\\ipykernel_10116\\690922503.py:3: DeprecationWarning: executable_path has been deprecated, please pass in a Service object\n",
            "  driver = webdriver.Chrome(\"./chromedriver\")\n",
            "C:\\Users\\HPE\\AppData\\Local\\Temp\\ipykernel_10116\\690922503.py:14: DeprecationWarning: find_element_by_css_selector is deprecated. Please use find_element(by=By.CSS_SELECTOR, value=css_selector) instead\n",
            "  driver.find_element_by_css_selector('#AKCFrm > fieldset > div.inner_support > div.searchWrap > div > a').click()\n",
            "C:\\Users\\HPE\\AppData\\Local\\Temp\\ipykernel_10116\\690922503.py:17: DeprecationWarning: find_element_by_css_selector is deprecated. Please use find_element(by=By.CSS_SELECTOR, value=css_selector) instead\n",
            "  element = driver.find_element_by_css_selector('#keyword')\n",
            "C:\\Users\\HPE\\AppData\\Local\\Temp\\ipykernel_10116\\690922503.py:23: DeprecationWarning: find_element_by_css_selector is deprecated. Please use find_element(by=By.CSS_SELECTOR, value=css_selector) instead\n",
            "  driver.find_element_by_css_selector('#searchButton').click()\n",
            "C:\\Users\\HPE\\AppData\\Local\\Temp\\ipykernel_10116\\690922503.py:27: DeprecationWarning: find_element_by_css_selector is deprecated. Please use find_element(by=By.CSS_SELECTOR, value=css_selector) instead\n",
            "  land_number.append(driver.find_element_by_css_selector('#list1 > div.subejct_2 > span.roadNameText').text)\n"
          ]
        }
      ],
      "source": [
        "# jeju_adress_list = pd.read_excel('./jeju data/jeju_jin_train_theme_category.csv')\n",
        "\n",
        "driver = webdriver.Chrome(\"./chromedriver\")\n",
        "\n",
        "driver.get(\"https://www.juso.go.kr/support/AddressMainSearch.do?searchKeyword=%EC%A0%9C%EC%A3%BC+%EC%A0%9C%EC%A3%BC%EC%8B%9C+%EC%9D%BC%EC%A3%BC%EC%84%9C%EB%A1%9C+6339-0&dsgubuntext=&dscity1text=&dscounty1text=&dsemd1text=&dsri1text=&dssan1text=&dsrd_nm1text=\")\n",
        "driver.implicitly_wait(1)\n",
        "\n",
        "land_number = []\n",
        "\n",
        "for i in b :\n",
        "\n",
        "    try :\n",
        "        # 제거\n",
        "        driver.find_element_by_css_selector('#AKCFrm > fieldset > div.inner_support > div.searchWrap > div > a').click()\n",
        "\n",
        "        # 검색바의 위치를 element 변수에 반환합니다.\n",
        "        element = driver.find_element_by_css_selector('#keyword')\n",
        "\n",
        "        # 검색바 위에 검색할 단어를 삽입합니다.\n",
        "        element.send_keys(i)\n",
        "\n",
        "        # 검색합니다.\n",
        "        driver.find_element_by_css_selector('#searchButton').click()\n",
        "        time.sleep(1)\n",
        "\n",
        "        # 지번을 추가합니다.\n",
        "        land_number.append(driver.find_element_by_css_selector('#list1 > div.subejct_2 > span.roadNameText').text)\n",
        "    except :\n",
        "        land_number.append(\" \")"
      ]
    },
    {
      "cell_type": "markdown",
      "id": "ecfd3d38",
      "metadata": {
        "id": "ecfd3d38"
      },
      "source": [
        "## 데이터 정보 확인"
      ]
    },
    {
      "cell_type": "code",
      "execution_count": null,
      "id": "e84f4d72",
      "metadata": {
        "id": "e84f4d72"
      },
      "outputs": [],
      "source": [
        "# # 관광지 데이터 정보 확인\n",
        "# print(len(tourist))\n",
        "# print(type(tourist))\n",
        "# print('-'*150)\n",
        "# print(len(theme))\n",
        "# print(type(theme))\n",
        "# print('-'*150)\n",
        "# print(len(tourist_address))\n",
        "# print(type(tourist_address))\n",
        "\n",
        "# # 음식집 데이터 정보 확인\n",
        "# print(len(restaurant_name))\n",
        "# print(type(restaurant_name))\n",
        "# print('-'*150)\n",
        "# print(len(restaurant_theme))\n",
        "# print(type(restaurant_theme))\n",
        "# print('-'*150)\n",
        "# print(len(restaurant_address))\n",
        "# print(type(restaurant_address))\n",
        "\n",
        "# 쇼핑몰 데이터 정보 확인\n",
        "print(len(shopping_name))\n",
        "print(type(shopping_name))\n",
        "print('-'*150)\n",
        "print(len(shopping_theme))\n",
        "print(type(shopping_theme))\n",
        "print('-'*150)\n",
        "print(len(shopping_address))\n",
        "print(type(shopping_address))"
      ]
    },
    {
      "cell_type": "markdown",
      "id": "a175df83",
      "metadata": {
        "id": "a175df83"
      },
      "source": [
        "## 데이터프레임 변환 및 csv 파일 저장"
      ]
    },
    {
      "cell_type": "code",
      "execution_count": null,
      "id": "99ba2230",
      "metadata": {
        "id": "99ba2230"
      },
      "outputs": [],
      "source": [
        "# # 관광지 정보 데이터프레임 변환\n",
        "# tourist_df = pd.DataFrame(tourist, columns=['관광 명소'])\n",
        "# theme_df = pd.DataFrame(theme, columns=['테마'])\n",
        "# tourist_address_df = pd.DataFrame(tourist_address, columns=['주소'])\n",
        "\n",
        "# # 각 데이터 프레임들을 한번에 합치기위해 리스트 변수에 다 묶습니다.\n",
        "# df_list = [tourist_df, tourist_address_df, theme_df]\n",
        "\n",
        "# # 위에서 생성한 데이터 프레임 리스트를 하나의 데이터 프레임으로 합칩니다.\n",
        "# tourist_info = pd.concat(df_list, axis=1)\n",
        "\n",
        "# # csv 파일로 저장합니다.\n",
        "# tourist_info.to_csv('./tourist_info.csv')\n",
        "\n",
        "# # 음식점 정보 데이터프레임 변환\n",
        "# tourist_df = pd.DataFrame(tourist, columns=['관광 명소'])\n",
        "# theme_df = pd.DataFrame(theme, columns=['테마'])\n",
        "# tourist_address_df = pd.DataFrame(tourist_address, columns=['주소'])\n",
        "\n",
        "# # 각 데이터 프레임들을 한번에 합치기위해 리스트 변수에 다 묶습니다.\n",
        "# df_list = [tourist_df, tourist_address_df, theme_df]\n",
        "\n",
        "# # 위에서 생성한 데이터 프레임 리스트를 하나의 데이터 프레임으로 합칩니다.\n",
        "# tourist_info = pd.concat(df_list, axis=1)\n",
        "\n",
        "# # csv 파일로 저장합니다.\n",
        "# tourist_info.to_csv('./tourist_info.csv')\n",
        "\n",
        "# # 쇼핑몰 정보 데이터프레임 변환\n",
        "# shopping_name_df = pd.DataFrame(shopping_name, columns=['쇼핑몰'])\n",
        "# shopping_theme_df = pd.DataFrame(shopping_theme, columns=['테마'])\n",
        "# shopping_address_df = pd.DataFrame(shopping_address, columns=['주소'])\n",
        "\n",
        "# # 각 데이터 프레임들을 한번에 합치기위해 리스트 변수에 다 묶습니다.\n",
        "# shopping_df_list = [shopping_name_df, shopping_address_df, shopping_theme_df]\n",
        "\n",
        "# # 위에서 생성한 데이터 프레임 리스트를 하나의 데이터 프레임으로 합칩니다.\n",
        "# shopping_info = pd.concat(shopping_df_list, axis=1)\n",
        "\n",
        "# # csv 파일로 저장합니다.\n",
        "# shopping_info.to_csv('./shopping_info.csv')\n",
        "\n",
        "# 주소 정보를 데이터 프레임으로\n",
        "land_number_address_df = pd.DataFrame(land_number, columns=['주소'])\n",
        "\n",
        "# csv 파일로 저장합니다.\n",
        "land_number_address_df.to_excel('./land_number_address_df.xlsx')"
      ]
    }
  ],
  "metadata": {
    "kernelspec": {
      "display_name": "Python 3 (ipykernel)",
      "language": "python",
      "name": "python3"
    },
    "language_info": {
      "codemirror_mode": {
        "name": "ipython",
        "version": 3
      },
      "file_extension": ".py",
      "mimetype": "text/x-python",
      "name": "python",
      "nbconvert_exporter": "python",
      "pygments_lexer": "ipython3",
      "version": "3.9.1"
    },
    "colab": {
      "name": "crawling(jupyter_version).ipynb의 사본",
      "provenance": [],
      "toc_visible": true,
      "collapsed_sections": []
    }
  },
  "nbformat": 4,
  "nbformat_minor": 5
}